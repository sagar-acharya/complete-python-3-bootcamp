{
 "cells": [
  {
   "cell_type": "code",
   "execution_count": 2,
   "id": "169226a3",
   "metadata": {},
   "outputs": [
    {
     "name": "stdout",
     "output_type": "stream",
     "text": [
      "test link below:\n",
      "https://github.com/Pierian-Data/Complete-Python-3-Bootcamp/blob/master/02-Python%20Statements/07-Statements%20Assessment%20Test.ipynb\n"
     ]
    }
   ],
   "source": [
    "print(\"test link below:\")\n",
    "print(\"https://github.com/Pierian-Data/Complete-Python-3-Bootcamp/blob/master/02-Python%20Statements/07-Statements%20Assessment%20Test.ipynb\")"
   ]
  },
  {
   "cell_type": "code",
   "execution_count": 11,
   "id": "c2fbd083",
   "metadata": {},
   "outputs": [
    {
     "name": "stdout",
     "output_type": "stream",
     "text": [
      "start\n",
      "s\n",
      "sentence\n"
     ]
    }
   ],
   "source": [
    "st = 'Print only the words that start with s in this sentence'\n",
    "for word in st.split():\n",
    "    if word[0].lower() == 's':\n",
    "        print(word)"
   ]
  },
  {
   "cell_type": "code",
   "execution_count": 13,
   "id": "3761b0e5",
   "metadata": {},
   "outputs": [
    {
     "name": "stdout",
     "output_type": "stream",
     "text": [
      "0\n",
      "2\n",
      "4\n",
      "6\n",
      "8\n",
      "10\n"
     ]
    }
   ],
   "source": [
    "for num in range(0,11,2):\n",
    "    print(num)"
   ]
  },
  {
   "cell_type": "code",
   "execution_count": 15,
   "id": "9d484139",
   "metadata": {},
   "outputs": [
    {
     "data": {
      "text/plain": [
       "[3, 6, 9, 12, 15, 18, 21, 24, 27, 30, 33, 36, 39, 42, 45, 48]"
      ]
     },
     "execution_count": 15,
     "metadata": {},
     "output_type": "execute_result"
    }
   ],
   "source": [
    "[num for num in range(1,51) if num % 3 == 0]"
   ]
  },
  {
   "cell_type": "code",
   "execution_count": 30,
   "id": "d5fd77a6",
   "metadata": {},
   "outputs": [
    {
     "name": "stdout",
     "output_type": "stream",
     "text": [
      "word even!\n",
      "in even!\n",
      "this even!\n",
      "sentence even!\n",
      "that even!\n",
      "an even!\n",
      "even even!\n",
      "number even!\n",
      "of even!\n"
     ]
    }
   ],
   "source": [
    "st = 'Print every word in this sentence that has an even number of letters'\n",
    "\n",
    "for word in st.split():\n",
    "    if len(word) % 2 == 0:\n",
    "        print(word +' even!')"
   ]
  },
  {
   "cell_type": "code",
   "execution_count": 33,
   "id": "ac1fb67d",
   "metadata": {},
   "outputs": [
    {
     "name": "stdout",
     "output_type": "stream",
     "text": [
      "1\n",
      "Fizz\n",
      "3\n",
      "4\n",
      "Fizz\n",
      "6\n",
      "7\n",
      "Fizz\n",
      "9\n",
      "Buzz\n",
      "Fizz\n",
      "12\n",
      "13\n",
      "Fizz\n",
      "FizzBuzz\n",
      "16\n",
      "Fizz\n",
      "18\n",
      "19\n",
      "Fizz\n",
      "21\n",
      "22\n",
      "Fizz\n",
      "24\n",
      "Buzz\n",
      "Fizz\n",
      "27\n",
      "28\n",
      "Fizz\n",
      "FizzBuzz\n",
      "31\n",
      "Fizz\n",
      "33\n",
      "34\n",
      "Fizz\n",
      "36\n",
      "37\n",
      "Fizz\n",
      "39\n",
      "Buzz\n",
      "Fizz\n",
      "42\n",
      "43\n",
      "Fizz\n",
      "FizzBuzz\n",
      "46\n",
      "Fizz\n",
      "48\n",
      "49\n",
      "Fizz\n",
      "51\n",
      "52\n",
      "Fizz\n",
      "54\n",
      "Buzz\n",
      "Fizz\n",
      "57\n",
      "58\n",
      "Fizz\n",
      "FizzBuzz\n",
      "61\n",
      "Fizz\n",
      "63\n",
      "64\n",
      "Fizz\n",
      "66\n",
      "67\n",
      "Fizz\n",
      "69\n",
      "Buzz\n",
      "Fizz\n",
      "72\n",
      "73\n",
      "Fizz\n",
      "FizzBuzz\n",
      "76\n",
      "Fizz\n",
      "78\n",
      "79\n",
      "Fizz\n",
      "81\n",
      "82\n",
      "Fizz\n",
      "84\n",
      "Buzz\n",
      "Fizz\n",
      "87\n",
      "88\n",
      "Fizz\n",
      "FizzBuzz\n",
      "91\n",
      "Fizz\n",
      "93\n",
      "94\n",
      "Fizz\n",
      "96\n",
      "97\n",
      "Fizz\n",
      "99\n",
      "Buzz\n"
     ]
    }
   ],
   "source": [
    "for num in range(1,101):\n",
    "    if num % 3 == 0 and num % 5 == 0:\n",
    "        print('FizzBuzz')\n",
    "    elif num % 3 == 2:\n",
    "        print('Fizz')\n",
    "    elif num % 5 == 0:\n",
    "        print('Buzz')\n",
    "    else:\n",
    "        print(num)"
   ]
  },
  {
   "cell_type": "code",
   "execution_count": 29,
   "id": "c9e03b20",
   "metadata": {},
   "outputs": [
    {
     "data": {
      "text/plain": [
       "['C', 'a', 'l', 'o', 't', 'f', 'l', 'o', 'e', 'w', 'i', 't', 's']"
      ]
     },
     "execution_count": 29,
     "metadata": {},
     "output_type": "execute_result"
    }
   ],
   "source": [
    "st = 'Create a list of the first letters of every word in this string'\n",
    "\n",
    "[string[0] for string in st.split()]"
   ]
  },
  {
   "cell_type": "code",
   "execution_count": null,
   "id": "4a7b7778",
   "metadata": {},
   "outputs": [],
   "source": []
  }
 ],
 "metadata": {
  "kernelspec": {
   "display_name": "Python 3",
   "language": "python",
   "name": "python3"
  },
  "language_info": {
   "codemirror_mode": {
    "name": "ipython",
    "version": 3
   },
   "file_extension": ".py",
   "mimetype": "text/x-python",
   "name": "python",
   "nbconvert_exporter": "python",
   "pygments_lexer": "ipython3",
   "version": "3.8.8"
  }
 },
 "nbformat": 4,
 "nbformat_minor": 5
}
