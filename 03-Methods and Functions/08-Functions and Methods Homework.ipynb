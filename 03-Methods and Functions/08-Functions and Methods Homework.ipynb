{
 "cells": [
  {
   "cell_type": "code",
   "execution_count": 5,
   "id": "ddba0bde",
   "metadata": {},
   "outputs": [
    {
     "name": "stdout",
     "output_type": "stream",
     "text": [
      "Volume of radius 2 is 33.52380952384\n"
     ]
    }
   ],
   "source": [
    "#volume of sphere\n",
    "def vol(radius):\n",
    "    pie=3.14285714286\n",
    "    volume = (4/3)*pie*(radius*radius*radius)\n",
    "    print(\"Volume of radius {} is {}\".format(radius,volume))\n",
    "\n",
    "vol(2)"
   ]
  },
  {
   "cell_type": "code",
   "execution_count": 14,
   "id": "ca605717",
   "metadata": {},
   "outputs": [
    {
     "name": "stdout",
     "output_type": "stream",
     "text": [
      "5 is in the range between 2 and 7\n"
     ]
    }
   ],
   "source": [
    "#Write a function that checks whether a number is in a given range (inclusive of high and low)\n",
    "def ran_check(num,low,high):\n",
    "    if(num in range(low,high)):\n",
    "        print(\"{} is in the range between {} and {}\".format(num,low,high))\n",
    "    \n",
    "ran_check(5,2,7)"
   ]
  },
  {
   "cell_type": "code",
   "execution_count": 17,
   "id": "10706e45",
   "metadata": {},
   "outputs": [
    {
     "data": {
      "text/plain": [
       "True"
      ]
     },
     "execution_count": 17,
     "metadata": {},
     "output_type": "execute_result"
    }
   ],
   "source": [
    "#Write a function that checks whether a number is in a given range (inclusive of high and low) \n",
    "#If you only wanted to return a boolean:\n",
    "def ran_bool(num,low,high):\n",
    "    if(num in range(low,high)):\n",
    "        return True\n",
    "    \n",
    "ran_bool(3,1,10)"
   ]
  },
  {
   "cell_type": "code",
   "execution_count": 20,
   "id": "9e74bc15",
   "metadata": {},
   "outputs": [
    {
     "name": "stdout",
     "output_type": "stream",
     "text": [
      "No. of Upper case characters : 4\n",
      "No. of Lower case Characters : 33\n"
     ]
    }
   ],
   "source": [
    "#Write a Python function that accepts a string and calculates the number of upper case letters and lower case letters.\n",
    "def up_low(string):\n",
    "    upper = 0\n",
    "    lower = 0\n",
    "    for char in string:\n",
    "        if(char.isupper()):\n",
    "            upper += 1\n",
    "        elif(char.islower()):\n",
    "            lower += 1\n",
    "    print(\"No. of Upper case characters : {}\".format(upper))\n",
    "    print(\"No. of Lower case Characters : {}\".format(lower))\n",
    "        \n",
    "s = 'Hello Mr. Rogers, how are you this fine Tuesday?'\n",
    "up_low(s)"
   ]
  },
  {
   "cell_type": "code",
   "execution_count": 22,
   "id": "30b9a62f",
   "metadata": {},
   "outputs": [
    {
     "name": "stdout",
     "output_type": "stream",
     "text": [
      "Sample List : [1, 1, 1, 1, 2, 2, 3, 3, 3, 3, 4, 5]\n",
      "Unique List : [1, 2, 3, 4, 5]\n"
     ]
    }
   ],
   "source": [
    "#Write a Python function that takes a list and returns a new list with unique elements of the first list.\n",
    "def unique_list(lst):\n",
    "    unique = []\n",
    "    for num in lst:\n",
    "        if(num not in unique):\n",
    "            unique.append(num)\n",
    "    print(\"Sample List : {}\".format(lst))\n",
    "    print(\"Unique List : {}\".format(unique))\n",
    "    \n",
    "unique_list([1,1,1,1,2,2,3,3,3,3,4,5])"
   ]
  },
  {
   "cell_type": "code",
   "execution_count": 23,
   "id": "f9ee81b2",
   "metadata": {},
   "outputs": [
    {
     "name": "stdout",
     "output_type": "stream",
     "text": [
      "Sample List: [1, 2, 3, -4]\n",
      "Expected Output: -24\n"
     ]
    }
   ],
   "source": [
    "#Write a Python function to multiply all the numbers in a list.\n",
    "def multiply(numbers):\n",
    "    mult = 0;\n",
    "    for num in numbers:\n",
    "        if(mult == 0):\n",
    "            mult = num\n",
    "        else:\n",
    "            mult *= num\n",
    "    print(\"Sample List: {}\".format(numbers))\n",
    "    print(\"Expected Output: {}\".format(mult))\n",
    "    \n",
    "multiply([1,2,3,-4])"
   ]
  },
  {
   "cell_type": "code",
   "execution_count": 37,
   "id": "636ee97c",
   "metadata": {},
   "outputs": [
    {
     "name": "stdout",
     "output_type": "stream",
     "text": [
      "String madam madam is palindrome\n"
     ]
    }
   ],
   "source": [
    "def palindrome(s):\n",
    "    new_string = s.replace(\" \",\"\")\n",
    "    \n",
    "    if(new_string == new_string[::-1]):\n",
    "        print(\"String {} is palindrome\".format(s))\n",
    "    else:\n",
    "        print(\"String {} is not palindrome\".format(s))\n",
    "    \n",
    "palindrome(\"madam madam\")"
   ]
  },
  {
   "cell_type": "code",
   "execution_count": null,
   "id": "24b0d84f",
   "metadata": {},
   "outputs": [],
   "source": []
  }
 ],
 "metadata": {
  "kernelspec": {
   "display_name": "Python 3",
   "language": "python",
   "name": "python3"
  },
  "language_info": {
   "codemirror_mode": {
    "name": "ipython",
    "version": 3
   },
   "file_extension": ".py",
   "mimetype": "text/x-python",
   "name": "python",
   "nbconvert_exporter": "python",
   "pygments_lexer": "ipython3",
   "version": "3.8.8"
  }
 },
 "nbformat": 4,
 "nbformat_minor": 5
}
