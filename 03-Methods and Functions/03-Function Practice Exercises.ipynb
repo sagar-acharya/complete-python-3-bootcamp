{
 "cells": [
  {
   "cell_type": "code",
   "execution_count": 1,
   "id": "c22100e3",
   "metadata": {},
   "outputs": [],
   "source": [
    "#WARMUP SECTION:"
   ]
  },
  {
   "cell_type": "code",
   "execution_count": 44,
   "id": "0513bda7",
   "metadata": {},
   "outputs": [
    {
     "name": "stdout",
     "output_type": "stream",
     "text": [
      "2\n",
      "5\n"
     ]
    }
   ],
   "source": [
    "#LESSER OF TWO EVENS: Write a function that returns the lesser of two given numbers if both numbers are even, but returns the greater if one or both numbers are odd\n",
    "\n",
    "def lesser_of_two_evens(a,b):\n",
    "    if(a%2 == 0 and b%2 ==0):\n",
    "        return min(a,b)\n",
    "    else:\n",
    "        return max(a,b)\n",
    "print(lesser_of_two_evens(2,4))\n",
    "print(lesser_of_two_evens(2,5))"
   ]
  },
  {
   "cell_type": "code",
   "execution_count": 47,
   "id": "85c8be49",
   "metadata": {},
   "outputs": [
    {
     "name": "stdout",
     "output_type": "stream",
     "text": [
      "True\n",
      "False\n"
     ]
    }
   ],
   "source": [
    "#ANIMAL CRACKERS: Write a function takes a two-word string and returns True if both words begin with same letter\n",
    "def animal_crackers(text):\n",
    "    wordlist = text.lower().split()\n",
    "    return wordlist[0][0] == wordlist[1][0]\n",
    "    \n",
    "print(animal_crackers('Levelheaded Llama'))\n",
    "print(animal_crackers('Crazy Kangaroo'))"
   ]
  },
  {
   "cell_type": "code",
   "execution_count": 24,
   "id": "61261a8c",
   "metadata": {},
   "outputs": [
    {
     "name": "stdout",
     "output_type": "stream",
     "text": [
      "True\n",
      "True\n",
      "False\n"
     ]
    }
   ],
   "source": [
    "#MAKES TWENTY: Given two integers, return True if the sum of the integers is 20 or if one of the integers is 20. If not, return False\n",
    "\n",
    "def makes_twenty(n1,n2):\n",
    "    if(n1 == 20 or n2 == 20):\n",
    "        print(True)\n",
    "    elif(sum((n1,n2)) == 20):\n",
    "        print(True)\n",
    "    else:\n",
    "        print(False)\n",
    "\n",
    "makes_twenty(20,10)\n",
    "makes_twenty(12,8)\n",
    "makes_twenty(2,3)"
   ]
  },
  {
   "cell_type": "code",
   "execution_count": 23,
   "id": "775c3b42",
   "metadata": {},
   "outputs": [
    {
     "data": {
      "text/plain": [
       "20"
      ]
     },
     "execution_count": 23,
     "metadata": {},
     "output_type": "execute_result"
    }
   ],
   "source": [
    "sum((12,8))"
   ]
  },
  {
   "cell_type": "code",
   "execution_count": 25,
   "id": "e1d6ba87",
   "metadata": {},
   "outputs": [],
   "source": [
    "#LEVEL 1 PROBLEMS"
   ]
  },
  {
   "cell_type": "code",
   "execution_count": 50,
   "id": "c9d2e4a9",
   "metadata": {},
   "outputs": [
    {
     "data": {
      "text/plain": [
       "'MacDonald'"
      ]
     },
     "execution_count": 50,
     "metadata": {},
     "output_type": "execute_result"
    }
   ],
   "source": [
    "def old_macdonald(name):\n",
    "    first_half = name[:3]\n",
    "    second_half = name[3:]\n",
    "    \n",
    "    return first_half.capitalize() + second_half.capitalize()\n",
    "    \n",
    "old_macdonald('macdonald')"
   ]
  },
  {
   "cell_type": "code",
   "execution_count": 32,
   "id": "05a2443d",
   "metadata": {},
   "outputs": [
    {
     "name": "stdout",
     "output_type": "stream",
     "text": [
      "home am I\n",
      "ready are We\n"
     ]
    }
   ],
   "source": [
    "#MASTER YODA: Given a sentence, return a sentence with the words reversed\n",
    "def master_yoda(text):\n",
    "    split_string = text.split()\n",
    "    print(\" \".join(split_string[::-1]))\n",
    "\n",
    "master_yoda('I am home')\n",
    "master_yoda('We are ready')"
   ]
  },
  {
   "cell_type": "code",
   "execution_count": 51,
   "id": "9f6eb577",
   "metadata": {},
   "outputs": [],
   "source": [
    "#ALMOST THERE: Given an integer n, return True if n is within 10 of either 100 or 200\n",
    "#def almost_there(n):"
   ]
  },
  {
   "cell_type": "code",
   "execution_count": 34,
   "id": "82391f7d",
   "metadata": {},
   "outputs": [],
   "source": [
    "#LEVEL 2 PROBLEMS"
   ]
  },
  {
   "cell_type": "code",
   "execution_count": 63,
   "id": "0398c485",
   "metadata": {},
   "outputs": [
    {
     "data": {
      "text/plain": [
       "True"
      ]
     },
     "execution_count": 63,
     "metadata": {},
     "output_type": "execute_result"
    }
   ],
   "source": [
    "#FIND 33:\n",
    "def has33(nums):\n",
    "    for i in range(0,len(nums)-1):\n",
    "        if nums[i:i+2] == [3,3]:\n",
    "            return True\n",
    "    return False\n",
    "\n",
    "has33([1,3,1,3,3,3])"
   ]
  },
  {
   "cell_type": "code",
   "execution_count": null,
   "id": "482ff3aa",
   "metadata": {},
   "outputs": [],
   "source": []
  },
  {
   "cell_type": "code",
   "execution_count": 64,
   "id": "26b6741f",
   "metadata": {},
   "outputs": [
    {
     "data": {
      "text/plain": [
       "'HHHeeellllllooo'"
      ]
     },
     "execution_count": 64,
     "metadata": {},
     "output_type": "execute_result"
    }
   ],
   "source": [
    "#PAPER DOLL: Given a string, return a string where for every character in the original there are three characters\n",
    "def paper_doll(text):\n",
    "    result = ''\n",
    "    for char in text:\n",
    "        result += char*3\n",
    "    return result\n",
    "\n",
    "paper_doll('Hello')"
   ]
  },
  {
   "cell_type": "code",
   "execution_count": 68,
   "id": "32a32829",
   "metadata": {},
   "outputs": [
    {
     "data": {
      "text/plain": [
       "'BUST'"
      ]
     },
     "execution_count": 68,
     "metadata": {},
     "output_type": "execute_result"
    }
   ],
   "source": [
    "#BLACKJACK: Given three integers between 1 and 11, if their sum is less than or equal to 21, return their sum. If their sum exceeds 21 and there's an eleven, reduce the total sum by 10. Finally, if the sum (even after adjustment) exceeds 21, return 'BUST'\n",
    "def blackjack(a,b,c):\n",
    "    if sum([a,b,c]) <= 21:\n",
    "        return sum([a,b,c])\n",
    "    elif 11 in [a,b,c] and sum([a,b,c]) <= 31:\n",
    "        return sum([a,b,c]) - 10\n",
    "    else:\n",
    "        return \"BUST\"\n",
    "    \n",
    "blackjack(9,9,9)"
   ]
  },
  {
   "cell_type": "code",
   "execution_count": 38,
   "id": "6addbef9",
   "metadata": {},
   "outputs": [],
   "source": [
    "#SUMMER OF '69: Return the sum of the numbers in the array, except ignore sections of numbers starting with a 6 and extending to the next 9 (every 6 will be followed by at least one 9). Return 0 for no numbers."
   ]
  },
  {
   "cell_type": "code",
   "execution_count": 39,
   "id": "5e0b43e7",
   "metadata": {},
   "outputs": [],
   "source": [
    "#CHALLENGING PROBLEMS"
   ]
  },
  {
   "cell_type": "code",
   "execution_count": 40,
   "id": "277ed5d5",
   "metadata": {},
   "outputs": [],
   "source": [
    "#SPY GAME: Write a function that takes in a list of integers and returns True if it contains 007 in order"
   ]
  },
  {
   "cell_type": "code",
   "execution_count": 41,
   "id": "8c5de93d",
   "metadata": {},
   "outputs": [],
   "source": [
    "#COUNT PRIMES: Write a function that returns the number of prime numbers that exist up to and including a given number"
   ]
  },
  {
   "cell_type": "code",
   "execution_count": 42,
   "id": "98009e2f",
   "metadata": {},
   "outputs": [],
   "source": [
    "#Just for fun:"
   ]
  },
  {
   "cell_type": "code",
   "execution_count": null,
   "id": "cd1895be",
   "metadata": {},
   "outputs": [],
   "source": [
    "#PRINT BIG: Write a function that takes in a single letter, and returns a 5x5 representation of that letter"
   ]
  }
 ],
 "metadata": {
  "kernelspec": {
   "display_name": "Python 3",
   "language": "python",
   "name": "python3"
  },
  "language_info": {
   "codemirror_mode": {
    "name": "ipython",
    "version": 3
   },
   "file_extension": ".py",
   "mimetype": "text/x-python",
   "name": "python",
   "nbconvert_exporter": "python",
   "pygments_lexer": "ipython3",
   "version": "3.8.8"
  }
 },
 "nbformat": 4,
 "nbformat_minor": 5
}
