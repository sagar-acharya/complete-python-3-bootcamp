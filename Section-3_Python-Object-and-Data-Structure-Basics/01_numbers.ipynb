{
 "cells": [
  {
   "cell_type": "code",
   "execution_count": 10,
   "id": "3478cfb9-0617-4fa6-b580-0936bd44f753",
   "metadata": {},
   "outputs": [],
   "source": [
    "#Write an expression that equals 100. \n",
    "\n",
    "#For example 50+50   or 110-10 . \n",
    "\n",
    "#See if you can use more than one arithmetic operator! Write only one expression and submit only one line of code.\n",
    "\n",
    "#If your expression results in 100, then you should see a success message after you test out your solution :)"
   ]
  },
  {
   "cell_type": "code",
   "execution_count": 14,
   "id": "c97941c1-2e11-4e44-9af7-6626327132ad",
   "metadata": {},
   "outputs": [
    {
     "data": {
      "text/plain": [
       "100"
      ]
     },
     "execution_count": 14,
     "metadata": {},
     "output_type": "execute_result"
    }
   ],
   "source": [
    "120 - 20"
   ]
  },
  {
   "cell_type": "code",
   "execution_count": 16,
   "id": "e3f107d8-f996-4394-94bf-1c93b3e1ea21",
   "metadata": {},
   "outputs": [
    {
     "data": {
      "text/plain": [
       "8"
      ]
     },
     "execution_count": 16,
     "metadata": {},
     "output_type": "execute_result"
    }
   ],
   "source": [
    "4+4"
   ]
  },
  {
   "cell_type": "code",
   "execution_count": 18,
   "id": "c1a2eac6-9639-409b-b2ae-299816871b2a",
   "metadata": {},
   "outputs": [],
   "source": [
    "#1. What's the difference between floating point and an integer?\n",
    "\n",
    "#An integer has no decimals in it, a floating point number can display digits past the decimal point.\n",
    "\n",
    "#2. Why doesn't 0.1+0.2-0.3 equal 0.0 ?\n",
    "\n",
    "#This has to do with floating point accuracy and computer's abilities to represent numbers in memory. For a full breakdown, check out: https://docs.python.org/2/tutorial/floatingpoint.html"
   ]
  },
  {
   "cell_type": "code",
   "execution_count": 20,
   "id": "4713db55-5032-41cc-84f9-97bde6e9d459",
   "metadata": {},
   "outputs": [
    {
     "data": {
      "text/plain": [
       "0.5"
      ]
     },
     "execution_count": 20,
     "metadata": {},
     "output_type": "execute_result"
    }
   ],
   "source": [
    "#Remember, Python 3 performs true division by default!\n",
    "#In Python 3, what is the output of 1/2 ?\n",
    "\n",
    "1/2"
   ]
  },
  {
   "cell_type": "code",
   "execution_count": null,
   "id": "b6fd4410-2edf-4d02-a24c-45d4567fbff4",
   "metadata": {},
   "outputs": [],
   "source": []
  }
 ],
 "metadata": {
  "kernelspec": {
   "display_name": "Python [conda env:base] *",
   "language": "python",
   "name": "conda-base-py"
  },
  "language_info": {
   "codemirror_mode": {
    "name": "ipython",
    "version": 3
   },
   "file_extension": ".py",
   "mimetype": "text/x-python",
   "name": "python",
   "nbconvert_exporter": "python",
   "pygments_lexer": "ipython3",
   "version": "3.11.5"
  }
 },
 "nbformat": 4,
 "nbformat_minor": 5
}
