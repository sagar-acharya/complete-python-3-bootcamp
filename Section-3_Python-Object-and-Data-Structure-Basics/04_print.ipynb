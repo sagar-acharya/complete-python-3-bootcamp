{
 "cells": [
  {
   "cell_type": "code",
   "execution_count": 2,
   "id": "f05e666f-7b27-4a49-ba17-eb3895e65cee",
   "metadata": {},
   "outputs": [],
   "source": [
    "#string interpolation"
   ]
  },
  {
   "cell_type": "code",
   "execution_count": 4,
   "id": "d2979b17-4474-45ed-8ddd-bfc69607fbcd",
   "metadata": {},
   "outputs": [
    {
     "name": "stdout",
     "output_type": "stream",
     "text": [
      "This is a string INSERTED\n"
     ]
    }
   ],
   "source": [
    "print('This is a string {}'.format('INSERTED'))"
   ]
  },
  {
   "cell_type": "code",
   "execution_count": 8,
   "id": "c0c6278e-ddda-4beb-8930-7e84b4482a5b",
   "metadata": {},
   "outputs": [
    {
     "name": "stdout",
     "output_type": "stream",
     "text": [
      "The fox brown quick\n"
     ]
    }
   ],
   "source": [
    "print('The {} {} {}'.format('fox','brown','quick'))"
   ]
  },
  {
   "cell_type": "code",
   "execution_count": 10,
   "id": "15b6b112-5d19-4ab6-9cbf-22b078adb96b",
   "metadata": {},
   "outputs": [
    {
     "name": "stdout",
     "output_type": "stream",
     "text": [
      "The quick brown fox\n"
     ]
    }
   ],
   "source": [
    "print('The {2} {1} {0}'.format('fox','brown','quick'))"
   ]
  },
  {
   "cell_type": "code",
   "execution_count": 12,
   "id": "9e3d0dd6-122c-4012-ac2b-9116954ccb0a",
   "metadata": {},
   "outputs": [
    {
     "name": "stdout",
     "output_type": "stream",
     "text": [
      "The fox fox fox\n"
     ]
    }
   ],
   "source": [
    "print('The {0} {0} {0}'.format('fox','brown','quick'))"
   ]
  },
  {
   "cell_type": "code",
   "execution_count": 14,
   "id": "3ef760f0-f261-4a73-a882-bb1366cc23fc",
   "metadata": {},
   "outputs": [
    {
     "name": "stdout",
     "output_type": "stream",
     "text": [
      "The quick brown fox\n"
     ]
    }
   ],
   "source": [
    "print('The {q} {b} {f}'.format(f = 'fox',b = 'brown',q = 'quick')) #variable assignment"
   ]
  },
  {
   "cell_type": "code",
   "execution_count": 16,
   "id": "c6e4b87d-b752-49bc-a407-9eb11476fdf5",
   "metadata": {},
   "outputs": [
    {
     "name": "stdout",
     "output_type": "stream",
     "text": [
      "The fox fox fox\n"
     ]
    }
   ],
   "source": [
    "print('The {f} {f} {f}'.format(f = 'fox',b = 'brown',q = 'quick')) #variable assignment"
   ]
  },
  {
   "cell_type": "code",
   "execution_count": 20,
   "id": "46435290-673e-4b76-becb-80e9976099c0",
   "metadata": {},
   "outputs": [],
   "source": [
    "#float formatting follow \"{value:width.precision f}\""
   ]
  },
  {
   "cell_type": "code",
   "execution_count": 24,
   "id": "0218122e-d4d6-4507-a598-b7e21ad76750",
   "metadata": {},
   "outputs": [],
   "source": [
    "result = 100/777"
   ]
  },
  {
   "cell_type": "code",
   "execution_count": 26,
   "id": "fe4a835e-7910-4ef5-b6e4-3f09b36bfe32",
   "metadata": {},
   "outputs": [
    {
     "data": {
      "text/plain": [
       "0.1287001287001287"
      ]
     },
     "execution_count": 26,
     "metadata": {},
     "output_type": "execute_result"
    }
   ],
   "source": [
    "result"
   ]
  },
  {
   "cell_type": "code",
   "execution_count": 28,
   "id": "34937e59-f081-4da9-a274-53f3ad0907d1",
   "metadata": {},
   "outputs": [
    {
     "name": "stdout",
     "output_type": "stream",
     "text": [
      "This is a string 0.13\n"
     ]
    }
   ],
   "source": [
    "print('This is a string {r:1.2}'.format(r=result))"
   ]
  },
  {
   "cell_type": "code",
   "execution_count": 30,
   "id": "9c912cc9-36d7-4822-ac86-a61ef4725471",
   "metadata": {},
   "outputs": [],
   "source": [
    "result = 104.3456789"
   ]
  },
  {
   "cell_type": "code",
   "execution_count": 32,
   "id": "70b85062-d2d5-4d2c-9ba8-957810ee3c8a",
   "metadata": {},
   "outputs": [
    {
     "data": {
      "text/plain": [
       "104.3456789"
      ]
     },
     "execution_count": 32,
     "metadata": {},
     "output_type": "execute_result"
    }
   ],
   "source": [
    "result"
   ]
  },
  {
   "cell_type": "code",
   "execution_count": 44,
   "id": "8ed1931e-8cc1-4885-9239-f517fe178643",
   "metadata": {},
   "outputs": [
    {
     "name": "stdout",
     "output_type": "stream",
     "text": [
      "This is a string    104.346\n"
     ]
    }
   ],
   "source": [
    "print('This is a string {r:10.6}'.format(r=result))"
   ]
  },
  {
   "cell_type": "code",
   "execution_count": 48,
   "id": "76d7fed6-8279-47a3-9e92-04ec1c29258f",
   "metadata": {},
   "outputs": [],
   "source": [
    "name = 'sagar'"
   ]
  },
  {
   "cell_type": "code",
   "execution_count": 50,
   "id": "2d2d7bac-17d9-4015-b7ed-b834404ff5bf",
   "metadata": {},
   "outputs": [
    {
     "name": "stdout",
     "output_type": "stream",
     "text": [
      "This is a string sagar\n"
     ]
    }
   ],
   "source": [
    "print('This is a string {n}'.format(n=name))"
   ]
  },
  {
   "cell_type": "code",
   "execution_count": 52,
   "id": "9bbcc622-75d2-4cda-a5f9-8ace42931e93",
   "metadata": {},
   "outputs": [
    {
     "name": "stdout",
     "output_type": "stream",
     "text": [
      "This is a string sagar\n"
     ]
    }
   ],
   "source": [
    "print(f'This is a string {name}')"
   ]
  },
  {
   "cell_type": "code",
   "execution_count": 54,
   "id": "a82a03e2-41bb-4fc4-9134-e4ce86a0a2b4",
   "metadata": {},
   "outputs": [],
   "source": [
    "name = 'Sam'\n",
    "age = 3"
   ]
  },
  {
   "cell_type": "code",
   "execution_count": 56,
   "id": "0b234709-441b-4899-a386-2df9c285083e",
   "metadata": {},
   "outputs": [
    {
     "name": "stdout",
     "output_type": "stream",
     "text": [
      "Sam is 3 years old\n"
     ]
    }
   ],
   "source": [
    "print(f'{name} is {age} years old')"
   ]
  },
  {
   "cell_type": "code",
   "execution_count": null,
   "id": "16c0e3ec-47f2-45b7-a175-00897545e9f0",
   "metadata": {},
   "outputs": [],
   "source": []
  }
 ],
 "metadata": {
  "kernelspec": {
   "display_name": "Python [conda env:base] *",
   "language": "python",
   "name": "conda-base-py"
  },
  "language_info": {
   "codemirror_mode": {
    "name": "ipython",
    "version": 3
   },
   "file_extension": ".py",
   "mimetype": "text/x-python",
   "name": "python",
   "nbconvert_exporter": "python",
   "pygments_lexer": "ipython3",
   "version": "3.11.5"
  }
 },
 "nbformat": 4,
 "nbformat_minor": 5
}
