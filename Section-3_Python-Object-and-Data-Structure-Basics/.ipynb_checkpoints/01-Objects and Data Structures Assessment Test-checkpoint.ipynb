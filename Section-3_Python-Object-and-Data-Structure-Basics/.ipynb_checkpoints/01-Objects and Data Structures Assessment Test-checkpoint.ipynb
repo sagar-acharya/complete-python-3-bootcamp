{
 "cells": [
  {
   "cell_type": "code",
   "execution_count": 30,
   "id": "fa3731e0",
   "metadata": {},
   "outputs": [],
   "source": [
    "#Numbers\n",
    "#Write an equation that uses multiplication, division, an exponent, addition, and subtraction that is equal to 100.25.\n",
    "#Hint: This is just to test your memory of the basic arithmetic commands, work backwards from 100.25"
   ]
  },
  {
   "cell_type": "code",
   "execution_count": null,
   "id": "0b27f5fc",
   "metadata": {},
   "outputs": [],
   "source": []
  },
  {
   "cell_type": "code",
   "execution_count": 2,
   "id": "2a439afb",
   "metadata": {},
   "outputs": [],
   "source": [
    "#Answer these 3 questions without typing code. Then type code to check your answer.\n",
    "\n",
    "#What is the value of the expression 4 * (6 + 5)\n",
    "\n",
    "#What is the value of the expression 4 * 6 + 5 \n",
    "\n",
    "#What is the value of the expression 4 + 6 * 5 "
   ]
  },
  {
   "cell_type": "code",
   "execution_count": 3,
   "id": "2c15aa75",
   "metadata": {},
   "outputs": [
    {
     "data": {
      "text/plain": [
       "44"
      ]
     },
     "execution_count": 3,
     "metadata": {},
     "output_type": "execute_result"
    }
   ],
   "source": [
    "44"
   ]
  },
  {
   "cell_type": "code",
   "execution_count": 4,
   "id": "240a28b3",
   "metadata": {},
   "outputs": [
    {
     "data": {
      "text/plain": [
       "29"
      ]
     },
     "execution_count": 4,
     "metadata": {},
     "output_type": "execute_result"
    }
   ],
   "source": [
    "29"
   ]
  },
  {
   "cell_type": "code",
   "execution_count": 5,
   "id": "c125c6e0",
   "metadata": {},
   "outputs": [
    {
     "data": {
      "text/plain": [
       "34"
      ]
     },
     "execution_count": 5,
     "metadata": {},
     "output_type": "execute_result"
    }
   ],
   "source": [
    "34"
   ]
  },
  {
   "cell_type": "code",
   "execution_count": 7,
   "id": "b93ddf8b",
   "metadata": {},
   "outputs": [],
   "source": [
    "#What is the type of the result of the expression 3 + 1.5 + 4?\n",
    "\n",
    "\n",
    "#What would you use to find a number’s square root, as well as its square?"
   ]
  },
  {
   "cell_type": "code",
   "execution_count": 8,
   "id": "213cf2e9",
   "metadata": {},
   "outputs": [
    {
     "data": {
      "text/plain": [
       "float"
      ]
     },
     "execution_count": 8,
     "metadata": {},
     "output_type": "execute_result"
    }
   ],
   "source": [
    "float"
   ]
  },
  {
   "cell_type": "code",
   "execution_count": 74,
   "id": "8da086e4",
   "metadata": {},
   "outputs": [
    {
     "data": {
      "text/plain": [
       "100"
      ]
     },
     "execution_count": 74,
     "metadata": {},
     "output_type": "execute_result"
    }
   ],
   "source": [
    "#square root\n",
    "100 ** 0.5\n",
    "#square\n",
    "10 ** 2"
   ]
  },
  {
   "cell_type": "markdown",
   "id": "787d202c",
   "metadata": {},
   "source": [
    "s = 'hello'\n",
    "# Print out 'e' using indexing"
   ]
  },
  {
   "cell_type": "code",
   "execution_count": 10,
   "id": "6d845d04",
   "metadata": {},
   "outputs": [
    {
     "data": {
      "text/plain": [
       "'e'"
      ]
     },
     "execution_count": 10,
     "metadata": {},
     "output_type": "execute_result"
    }
   ],
   "source": [
    "s[1]"
   ]
  },
  {
   "cell_type": "code",
   "execution_count": 11,
   "id": "3f1fbc50",
   "metadata": {},
   "outputs": [],
   "source": [
    "s ='hello'\n",
    "# Reverse the string using slicing"
   ]
  },
  {
   "cell_type": "code",
   "execution_count": 75,
   "id": "8c18e143",
   "metadata": {},
   "outputs": [
    {
     "data": {
      "text/plain": [
       "'olleh'"
      ]
     },
     "execution_count": 75,
     "metadata": {},
     "output_type": "execute_result"
    }
   ],
   "source": [
    "s[::-1]"
   ]
  },
  {
   "cell_type": "code",
   "execution_count": 12,
   "id": "7ea01aff",
   "metadata": {},
   "outputs": [],
   "source": [
    "#Given the string hello, give two methods of producing the letter 'o' using indexing.\n",
    "s ='hello'"
   ]
  },
  {
   "cell_type": "code",
   "execution_count": 77,
   "id": "012aed3b",
   "metadata": {},
   "outputs": [
    {
     "data": {
      "text/plain": [
       "'o'"
      ]
     },
     "execution_count": 77,
     "metadata": {},
     "output_type": "execute_result"
    }
   ],
   "source": [
    "# Method 1:\n",
    "s[-1]"
   ]
  },
  {
   "cell_type": "code",
   "execution_count": 78,
   "id": "183e9e06",
   "metadata": {},
   "outputs": [
    {
     "data": {
      "text/plain": [
       "'o'"
      ]
     },
     "execution_count": 78,
     "metadata": {},
     "output_type": "execute_result"
    }
   ],
   "source": [
    "# Method 2:\n",
    "s[4]"
   ]
  },
  {
   "cell_type": "code",
   "execution_count": 15,
   "id": "b41e1959",
   "metadata": {},
   "outputs": [],
   "source": [
    "#Lists\n",
    "#Build this list [0,0,0] two separate ways."
   ]
  },
  {
   "cell_type": "code",
   "execution_count": 19,
   "id": "bae7975a",
   "metadata": {},
   "outputs": [],
   "source": [
    "# Method 1:\n",
    "my_list = [0,0,0]\n"
   ]
  },
  {
   "cell_type": "code",
   "execution_count": 80,
   "id": "7e302a44",
   "metadata": {},
   "outputs": [
    {
     "data": {
      "text/plain": [
       "[0, 0, 0]"
      ]
     },
     "execution_count": 80,
     "metadata": {},
     "output_type": "execute_result"
    }
   ],
   "source": [
    "# Method 2:\n",
    "[0]*3"
   ]
  },
  {
   "cell_type": "code",
   "execution_count": 21,
   "id": "43fa730b",
   "metadata": {},
   "outputs": [],
   "source": [
    "#Reassign 'hello' in this nested list to say 'goodbye' instead:\n",
    "list3 = [1,2,[3,4,'hello']]"
   ]
  },
  {
   "cell_type": "code",
   "execution_count": 24,
   "id": "1d89fcc2",
   "metadata": {},
   "outputs": [],
   "source": [
    "list3[2][2] = 'goodbye'"
   ]
  },
  {
   "cell_type": "code",
   "execution_count": 25,
   "id": "b9d5429f",
   "metadata": {},
   "outputs": [
    {
     "data": {
      "text/plain": [
       "[1, 2, [3, 4, 'goodbye']]"
      ]
     },
     "execution_count": 25,
     "metadata": {},
     "output_type": "execute_result"
    }
   ],
   "source": [
    "list3"
   ]
  },
  {
   "cell_type": "code",
   "execution_count": 27,
   "id": "5df1abf4",
   "metadata": {},
   "outputs": [],
   "source": [
    "#Sort the list below:\n",
    "list4 = [5,3,4,6,1]"
   ]
  },
  {
   "cell_type": "code",
   "execution_count": 28,
   "id": "ea6cb895",
   "metadata": {},
   "outputs": [],
   "source": [
    "list4.sort()"
   ]
  },
  {
   "cell_type": "code",
   "execution_count": 29,
   "id": "e8e6b915",
   "metadata": {},
   "outputs": [
    {
     "data": {
      "text/plain": [
       "[1, 3, 4, 5, 6]"
      ]
     },
     "execution_count": 29,
     "metadata": {},
     "output_type": "execute_result"
    }
   ],
   "source": [
    "list4"
   ]
  },
  {
   "cell_type": "code",
   "execution_count": 31,
   "id": "522d70b4",
   "metadata": {},
   "outputs": [],
   "source": [
    "#Dictionaries\n",
    "#Using keys and indexing, grab the 'hello' from the following dictionaries:"
   ]
  },
  {
   "cell_type": "code",
   "execution_count": 32,
   "id": "8cc3917e",
   "metadata": {},
   "outputs": [],
   "source": [
    "d = {'simple_key':'hello'}\n",
    "# Grab 'hello'"
   ]
  },
  {
   "cell_type": "code",
   "execution_count": 33,
   "id": "022c43d0",
   "metadata": {},
   "outputs": [
    {
     "data": {
      "text/plain": [
       "'hello'"
      ]
     },
     "execution_count": 33,
     "metadata": {},
     "output_type": "execute_result"
    }
   ],
   "source": [
    "d['simple_key']"
   ]
  },
  {
   "cell_type": "code",
   "execution_count": 87,
   "id": "4948f7b9",
   "metadata": {},
   "outputs": [],
   "source": [
    "# Getting a little tricker\n",
    "d = {'k1':[{'nest_key':['this is deep',['hello']]}]}\n",
    "\n",
    "#Grab hello"
   ]
  },
  {
   "cell_type": "code",
   "execution_count": 89,
   "id": "819c0083",
   "metadata": {},
   "outputs": [
    {
     "data": {
      "text/plain": [
       "'hello'"
      ]
     },
     "execution_count": 89,
     "metadata": {},
     "output_type": "execute_result"
    }
   ],
   "source": [
    "d['k1'][0]['nest_key'][1][0]"
   ]
  },
  {
   "cell_type": "code",
   "execution_count": 42,
   "id": "28b8fb32",
   "metadata": {},
   "outputs": [],
   "source": [
    "# This will be hard and annoying!\n",
    "d = {'k1':[1,2,{'k2':['this is tricky',{'tough':[1,2,['hello']]}]}]}"
   ]
  },
  {
   "cell_type": "code",
   "execution_count": 48,
   "id": "429d6608",
   "metadata": {},
   "outputs": [
    {
     "data": {
      "text/plain": [
       "'hello'"
      ]
     },
     "execution_count": 48,
     "metadata": {},
     "output_type": "execute_result"
    }
   ],
   "source": [
    "d['k1'][2]['k2'][1]['tough'][2][0]"
   ]
  },
  {
   "cell_type": "code",
   "execution_count": 49,
   "id": "a4df037e",
   "metadata": {},
   "outputs": [],
   "source": [
    "#Can you sort a dictionary? Why or why not?"
   ]
  },
  {
   "cell_type": "code",
   "execution_count": null,
   "id": "2aa64211",
   "metadata": {},
   "outputs": [],
   "source": [
    "#A: Dictonories are mapping not sequence"
   ]
  },
  {
   "cell_type": "code",
   "execution_count": 50,
   "id": "838e20dc",
   "metadata": {},
   "outputs": [],
   "source": [
    "#Tuples\n",
    "#What is the major difference between tuples and lists?"
   ]
  },
  {
   "cell_type": "code",
   "execution_count": null,
   "id": "21278e6f",
   "metadata": {},
   "outputs": [],
   "source": [
    "#A:"
   ]
  },
  {
   "cell_type": "code",
   "execution_count": 51,
   "id": "80a04bba",
   "metadata": {},
   "outputs": [],
   "source": [
    "#How do you create a tuple?"
   ]
  },
  {
   "cell_type": "code",
   "execution_count": null,
   "id": "067aa71a",
   "metadata": {},
   "outputs": [],
   "source": [
    "#A:"
   ]
  },
  {
   "cell_type": "code",
   "execution_count": 52,
   "id": "c366b1be",
   "metadata": {},
   "outputs": [],
   "source": [
    "#Sets\n",
    "#What is unique about a set?\n"
   ]
  },
  {
   "cell_type": "code",
   "execution_count": 53,
   "id": "f725b5c6",
   "metadata": {},
   "outputs": [],
   "source": [
    "#A: Sets have similar to list but have unique values only"
   ]
  },
  {
   "cell_type": "code",
   "execution_count": 55,
   "id": "a35e7075",
   "metadata": {},
   "outputs": [],
   "source": [
    "#Use a set to find the unique values of the list below:\n",
    "list5 = [1,2,2,33,4,4,11,22,3,3,2]"
   ]
  },
  {
   "cell_type": "code",
   "execution_count": 56,
   "id": "853ec170",
   "metadata": {},
   "outputs": [],
   "source": [
    "new_set = set(list5)"
   ]
  },
  {
   "cell_type": "code",
   "execution_count": 57,
   "id": "4ed84e42",
   "metadata": {},
   "outputs": [
    {
     "data": {
      "text/plain": [
       "{1, 2, 3, 4, 11, 22, 33}"
      ]
     },
     "execution_count": 57,
     "metadata": {},
     "output_type": "execute_result"
    }
   ],
   "source": [
    "new_set"
   ]
  },
  {
   "cell_type": "code",
   "execution_count": 58,
   "id": "e6289309",
   "metadata": {},
   "outputs": [],
   "source": [
    "#Booleans\n",
    "#For the following quiz questions, we will get a preview of comparison operators. In the table below, a=3 and b=4."
   ]
  },
  {
   "cell_type": "code",
   "execution_count": 60,
   "id": "4b31f945",
   "metadata": {},
   "outputs": [],
   "source": [
    "# Answer before running cell\n",
    "#2 > 3 : False"
   ]
  },
  {
   "cell_type": "code",
   "execution_count": 61,
   "id": "0f6b1edb",
   "metadata": {},
   "outputs": [],
   "source": [
    "# Answer before running cell\n",
    "#3 <= 2 False"
   ]
  },
  {
   "cell_type": "code",
   "execution_count": 62,
   "id": "c4998f70",
   "metadata": {},
   "outputs": [],
   "source": [
    "# Answer before running cell\n",
    "#3 == 2.0 False"
   ]
  },
  {
   "cell_type": "code",
   "execution_count": 64,
   "id": "86198329",
   "metadata": {},
   "outputs": [],
   "source": [
    "# Answer before running cell\n",
    "#4**0.5 != 2 False"
   ]
  },
  {
   "cell_type": "code",
   "execution_count": 67,
   "id": "a3d5606c",
   "metadata": {},
   "outputs": [],
   "source": [
    "#Final Question: What is the boolean output of the cell block below?\n",
    "# two nested lists\n",
    "l_one = [1,2,[3,4]]\n",
    "l_two = [1,2,{'k1':4}]"
   ]
  },
  {
   "cell_type": "code",
   "execution_count": 1,
   "id": "ca4111b5",
   "metadata": {},
   "outputs": [],
   "source": [
    "# True or False?\n",
    "#l_one[2][0] >= l_two[2]['k1'] : False"
   ]
  },
  {
   "cell_type": "code",
   "execution_count": 3,
   "id": "d9c09edf",
   "metadata": {},
   "outputs": [
    {
     "data": {
      "text/plain": [
       "False"
      ]
     },
     "execution_count": 3,
     "metadata": {},
     "output_type": "execute_result"
    }
   ],
   "source": [
    "False"
   ]
  },
  {
   "cell_type": "code",
   "execution_count": null,
   "id": "f4c91ec3",
   "metadata": {},
   "outputs": [],
   "source": []
  }
 ],
 "metadata": {
  "kernelspec": {
   "display_name": "Python 3",
   "language": "python",
   "name": "python3"
  },
  "language_info": {
   "codemirror_mode": {
    "name": "ipython",
    "version": 3
   },
   "file_extension": ".py",
   "mimetype": "text/x-python",
   "name": "python",
   "nbconvert_exporter": "python",
   "pygments_lexer": "ipython3",
   "version": "3.8.8"
  }
 },
 "nbformat": 4,
 "nbformat_minor": 5
}
