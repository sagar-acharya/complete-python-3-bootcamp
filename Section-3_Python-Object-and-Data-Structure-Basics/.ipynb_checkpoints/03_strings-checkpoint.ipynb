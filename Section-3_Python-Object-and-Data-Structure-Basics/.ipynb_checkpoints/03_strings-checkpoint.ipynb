{
 "cells": [
  {
   "cell_type": "code",
   "execution_count": 2,
   "id": "85fde0cf-46c6-4ade-a7f7-11e0fa6cc212",
   "metadata": {},
   "outputs": [
    {
     "data": {
      "text/plain": [
       "\"I'm going on a run\""
      ]
     },
     "execution_count": 2,
     "metadata": {},
     "output_type": "execute_result"
    }
   ],
   "source": [
    "\"I'm going on a run\""
   ]
  },
  {
   "cell_type": "code",
   "execution_count": 4,
   "id": "a5091123-f2e7-427c-8759-493b4ad58d12",
   "metadata": {},
   "outputs": [
    {
     "name": "stdout",
     "output_type": "stream",
     "text": [
      "Hello world\n"
     ]
    }
   ],
   "source": [
    "print(\"Hello world\")\n"
   ]
  },
  {
   "cell_type": "code",
   "execution_count": 6,
   "id": "7239a57b-4c50-4c05-8315-e69465f0a0b6",
   "metadata": {},
   "outputs": [
    {
     "name": "stdout",
     "output_type": "stream",
     "text": [
      "Hello world1\n",
      "Hello world2\n"
     ]
    }
   ],
   "source": [
    "print(\"Hello world1\")\n",
    "print(\"Hello world2\")\n"
   ]
  },
  {
   "cell_type": "code",
   "execution_count": 8,
   "id": "b8e520d6-cf33-4cfc-96a7-e168cc8e2dca",
   "metadata": {},
   "outputs": [
    {
     "name": "stdout",
     "output_type": "stream",
     "text": [
      "Hello \tworld\n"
     ]
    }
   ],
   "source": [
    "print(\"Hello \\tworld\")\n"
   ]
  },
  {
   "cell_type": "code",
   "execution_count": 10,
   "id": "b092f6a4-ab8d-422a-a1d6-7e39ec235b3d",
   "metadata": {},
   "outputs": [
    {
     "name": "stdout",
     "output_type": "stream",
     "text": [
      "Hello \n",
      "world\n"
     ]
    }
   ],
   "source": [
    "print(\"Hello \\nworld\")\n"
   ]
  },
  {
   "cell_type": "code",
   "execution_count": 12,
   "id": "2ccdb76b-36da-4444-8cc9-178b2e57eb99",
   "metadata": {},
   "outputs": [
    {
     "data": {
      "text/plain": [
       "5"
      ]
     },
     "execution_count": 12,
     "metadata": {},
     "output_type": "execute_result"
    }
   ],
   "source": [
    "len(\"Hello\")"
   ]
  },
  {
   "cell_type": "code",
   "execution_count": 14,
   "id": "414d317d-bc9f-4054-9c89-b68d67197c06",
   "metadata": {},
   "outputs": [],
   "source": [
    "mystring = \"Hello World\""
   ]
  },
  {
   "cell_type": "code",
   "execution_count": 16,
   "id": "b8ad766f-0524-4a0a-90b1-deba11827776",
   "metadata": {},
   "outputs": [
    {
     "data": {
      "text/plain": [
       "'Hello World'"
      ]
     },
     "execution_count": 16,
     "metadata": {},
     "output_type": "execute_result"
    }
   ],
   "source": [
    "mystring"
   ]
  },
  {
   "cell_type": "code",
   "execution_count": 18,
   "id": "245a9131-0b93-4bc8-8a2a-3665473146d4",
   "metadata": {},
   "outputs": [
    {
     "data": {
      "text/plain": [
       "'H'"
      ]
     },
     "execution_count": 18,
     "metadata": {},
     "output_type": "execute_result"
    }
   ],
   "source": [
    "mystring[0]"
   ]
  },
  {
   "cell_type": "code",
   "execution_count": 20,
   "id": "2ba4b251-4545-4b3d-b1fa-7ad32d5df56e",
   "metadata": {},
   "outputs": [
    {
     "data": {
      "text/plain": [
       "'W'"
      ]
     },
     "execution_count": 20,
     "metadata": {},
     "output_type": "execute_result"
    }
   ],
   "source": [
    "mystring[6]"
   ]
  },
  {
   "cell_type": "code",
   "execution_count": 24,
   "id": "d92454b8-6ab9-45f7-964e-1e00501ddea9",
   "metadata": {},
   "outputs": [
    {
     "data": {
      "text/plain": [
       "'W'"
      ]
     },
     "execution_count": 24,
     "metadata": {},
     "output_type": "execute_result"
    }
   ],
   "source": [
    "mystring[-5] #reverse indexing"
   ]
  },
  {
   "cell_type": "code",
   "execution_count": 30,
   "id": "435aece6-177f-4e93-b256-93646f7e4010",
   "metadata": {},
   "outputs": [],
   "source": [
    "#slicing\n",
    "mystring = \"abcdefghijk\""
   ]
  },
  {
   "cell_type": "code",
   "execution_count": 32,
   "id": "8e2f74b4-f559-4552-bca9-3b143671e8e6",
   "metadata": {},
   "outputs": [
    {
     "data": {
      "text/plain": [
       "'abcdefghijk'"
      ]
     },
     "execution_count": 32,
     "metadata": {},
     "output_type": "execute_result"
    }
   ],
   "source": [
    "mystring"
   ]
  },
  {
   "cell_type": "code",
   "execution_count": 34,
   "id": "a8608ded-2842-4fa9-98c9-c43eef92cc56",
   "metadata": {},
   "outputs": [
    {
     "data": {
      "text/plain": [
       "'cdefghijk'"
      ]
     },
     "execution_count": 34,
     "metadata": {},
     "output_type": "execute_result"
    }
   ],
   "source": [
    "mystring[2:]"
   ]
  },
  {
   "cell_type": "code",
   "execution_count": 38,
   "id": "ff12498a-b9a8-42b6-9b50-b25e41ec3ab5",
   "metadata": {},
   "outputs": [
    {
     "data": {
      "text/plain": [
       "'abc'"
      ]
     },
     "execution_count": 38,
     "metadata": {},
     "output_type": "execute_result"
    }
   ],
   "source": [
    "mystring[:3] #3 is the ending index but upto 3 so 3rd position not considered"
   ]
  },
  {
   "cell_type": "code",
   "execution_count": 40,
   "id": "74e600cc-7b09-432b-855d-1aab56cc293c",
   "metadata": {},
   "outputs": [
    {
     "data": {
      "text/plain": [
       "'defg'"
      ]
     },
     "execution_count": 40,
     "metadata": {},
     "output_type": "execute_result"
    }
   ],
   "source": [
    "mystring[3:7]"
   ]
  },
  {
   "cell_type": "code",
   "execution_count": 44,
   "id": "cf1a8696-b34f-4f0a-9b7e-eeafa912c88b",
   "metadata": {},
   "outputs": [
    {
     "data": {
      "text/plain": [
       "'abcdefghijk'"
      ]
     },
     "execution_count": 44,
     "metadata": {},
     "output_type": "execute_result"
    }
   ],
   "source": [
    "mystring[::] # mystring == mystring[::]"
   ]
  },
  {
   "cell_type": "code",
   "execution_count": 46,
   "id": "0399f432-0816-422d-bbe6-b6a4e954b498",
   "metadata": {},
   "outputs": [
    {
     "data": {
      "text/plain": [
       "'acegik'"
      ]
     },
     "execution_count": 46,
     "metadata": {},
     "output_type": "execute_result"
    }
   ],
   "source": [
    "mystring[::2] #step size"
   ]
  },
  {
   "cell_type": "code",
   "execution_count": 54,
   "id": "af8c9978-98fe-45d1-8867-8f3527fe25ce",
   "metadata": {},
   "outputs": [
    {
     "data": {
      "text/plain": [
       "'ceg'"
      ]
     },
     "execution_count": 54,
     "metadata": {},
     "output_type": "execute_result"
    }
   ],
   "source": [
    "mystring[2:7:2] #start from 2 upto 7 and step jump 2"
   ]
  },
  {
   "cell_type": "code",
   "execution_count": 56,
   "id": "2d76f0dd-ed73-4c8e-9605-6eebe40425e8",
   "metadata": {},
   "outputs": [
    {
     "data": {
      "text/plain": [
       "'kjihgfedcba'"
      ]
     },
     "execution_count": 56,
     "metadata": {},
     "output_type": "execute_result"
    }
   ],
   "source": [
    "mystring[::-1] #reverse"
   ]
  },
  {
   "cell_type": "code",
   "execution_count": 58,
   "id": "a5f96485-4c13-4be9-8ff1-9c4667fc2dba",
   "metadata": {},
   "outputs": [],
   "source": [
    "x = \"Sam\""
   ]
  },
  {
   "cell_type": "code",
   "execution_count": 60,
   "id": "878158e8-66f9-4b57-8077-14a3c0cabe63",
   "metadata": {},
   "outputs": [
    {
     "ename": "NameError",
     "evalue": "name 'X' is not defined",
     "output_type": "error",
     "traceback": [
      "\u001b[0;31m---------------------------------------------------------------------------\u001b[0m",
      "\u001b[0;31mNameError\u001b[0m                                 Traceback (most recent call last)",
      "Cell \u001b[0;32mIn[60], line 1\u001b[0m\n\u001b[0;32m----> 1\u001b[0m X[\u001b[38;5;241m0\u001b[39m] \u001b[38;5;241m=\u001b[39m \u001b[38;5;124m\"\u001b[39m\u001b[38;5;124mP\u001b[39m\u001b[38;5;124m\"\u001b[39m\n",
      "\u001b[0;31mNameError\u001b[0m: name 'X' is not defined"
     ]
    }
   ],
   "source": [
    "X[0] = \"P\" #Strings are immutable."
   ]
  },
  {
   "cell_type": "code",
   "execution_count": 62,
   "id": "8a1c7f9a-716c-4391-8742-0f62915e7d52",
   "metadata": {},
   "outputs": [],
   "source": [
    "mystring = \"P\" + x[1:]"
   ]
  },
  {
   "cell_type": "code",
   "execution_count": 64,
   "id": "84a1fa79-23cc-4be2-a1c9-57d3c59cf631",
   "metadata": {},
   "outputs": [
    {
     "data": {
      "text/plain": [
       "'Pam'"
      ]
     },
     "execution_count": 64,
     "metadata": {},
     "output_type": "execute_result"
    }
   ],
   "source": [
    "mystring"
   ]
  },
  {
   "cell_type": "code",
   "execution_count": 66,
   "id": "55a1a000-d973-4d1e-af5f-c53910c00341",
   "metadata": {},
   "outputs": [],
   "source": [
    "x = \"Hello World\""
   ]
  },
  {
   "cell_type": "code",
   "execution_count": 68,
   "id": "655509ee-2bf7-487f-a390-c7189b26bf06",
   "metadata": {},
   "outputs": [
    {
     "data": {
      "text/plain": [
       "'HELLO WORLD'"
      ]
     },
     "execution_count": 68,
     "metadata": {},
     "output_type": "execute_result"
    }
   ],
   "source": [
    "x.upper()"
   ]
  },
  {
   "cell_type": "code",
   "execution_count": 70,
   "id": "d3305e86-d0ef-49d3-be7a-fa2fea4dc09e",
   "metadata": {},
   "outputs": [
    {
     "data": {
      "text/plain": [
       "'hello world'"
      ]
     },
     "execution_count": 70,
     "metadata": {},
     "output_type": "execute_result"
    }
   ],
   "source": [
    "x.lower()"
   ]
  },
  {
   "cell_type": "code",
   "execution_count": 72,
   "id": "e55eb56e-651f-4c4f-948c-0239b284861d",
   "metadata": {},
   "outputs": [
    {
     "data": {
      "text/plain": [
       "['Hello', 'World']"
      ]
     },
     "execution_count": 72,
     "metadata": {},
     "output_type": "execute_result"
    }
   ],
   "source": [
    "x.split()"
   ]
  },
  {
   "cell_type": "code",
   "execution_count": 74,
   "id": "e44df793-ce02-4d78-af40-5a762a125900",
   "metadata": {},
   "outputs": [],
   "source": [
    "x = \"Hello this is a string\""
   ]
  },
  {
   "cell_type": "code",
   "execution_count": 76,
   "id": "c98f731a-e3e5-405a-a8dd-6279dff01f72",
   "metadata": {},
   "outputs": [
    {
     "data": {
      "text/plain": [
       "['Hello th', 's ', 's a str', 'ng']"
      ]
     },
     "execution_count": 76,
     "metadata": {},
     "output_type": "execute_result"
    }
   ],
   "source": [
    "x.split(\"i\")"
   ]
  },
  {
   "cell_type": "code",
   "execution_count": null,
   "id": "d56910e1-d0a6-4d7c-8368-90bf2b99a2da",
   "metadata": {},
   "outputs": [],
   "source": []
  }
 ],
 "metadata": {
  "kernelspec": {
   "display_name": "Python [conda env:base] *",
   "language": "python",
   "name": "conda-base-py"
  },
  "language_info": {
   "codemirror_mode": {
    "name": "ipython",
    "version": 3
   },
   "file_extension": ".py",
   "mimetype": "text/x-python",
   "name": "python",
   "nbconvert_exporter": "python",
   "pygments_lexer": "ipython3",
   "version": "3.11.5"
  }
 },
 "nbformat": 4,
 "nbformat_minor": 5
}
